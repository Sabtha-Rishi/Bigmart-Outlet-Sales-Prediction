{
 "cells": [
  {
   "cell_type": "code",
   "execution_count": null,
   "id": "4e809fc0",
   "metadata": {},
   "outputs": [],
   "source": [
    "#imports\n",
    "\n",
    "import pandas as pd\n",
    "import numpy as np\n",
    "import seaborn as sns\n",
    "import pandas_profiling as pf\n",
    "import pickle"
   ]
  },
  {
   "cell_type": "code",
   "execution_count": null,
   "id": "5c327879",
   "metadata": {},
   "outputs": [],
   "source": [
    "# Reading the Training data\n",
    "\n",
    "data = pd.read_csv(\"Train.csv\")\n",
    "data"
   ]
  },
  {
   "cell_type": "code",
   "execution_count": null,
   "id": "3352114e",
   "metadata": {},
   "outputs": [],
   "source": [
    "data.info()"
   ]
  },
  {
   "cell_type": "code",
   "execution_count": null,
   "id": "fbf2a350",
   "metadata": {},
   "outputs": [],
   "source": [
    "#### Quick stats info\n",
    "\n",
    "#pf.ProfileReport(data).to_widgets()"
   ]
  },
  {
   "cell_type": "markdown",
   "id": "6be94707",
   "metadata": {},
   "source": [
    "### Observations\n",
    "\n",
    "#### Item_Weight\n",
    "\n",
    "1. Numerical data\n",
    "2. Has 1463 Missing Values\n",
    "3. Mean and Median are almost equal hence no outliers are present (have to recheck)\n",
    "4. Data is normally distributed with shorter and bulged tails\n",
    "\n",
    "#### Item_Fat_Content\n",
    "\n",
    "1. Categorical data\n",
    "2. Contains the level of fat content - Low Fat and Regular Fat. But the data name is splitted and has to be combined.\n",
    "\n",
    "#### Item_Visiblity\n",
    "\n",
    "1. Numerical data\n",
    "2. Has 526 Zeros, the zeros indicate that the item is not available\n",
    "3. Right Skewed and has a long tail.\n",
    "4. Outliers are not present while considering the mean and median\n",
    "5. Data is diributed between 0 and 0.33\n",
    "\n",
    "#### Item_Type\n",
    "\n",
    "1. Catergorical data\n",
    "2. Contains the item's Category\n",
    "\n",
    "#### Item_MRP\n",
    "\n",
    "1. Numerical data\n",
    "2. No Skwness and Bulged Kurtosis at the ends\n",
    "\n",
    "#### Outlet_Identifier\n",
    "\n",
    "1. Categorical data\n",
    "2. Contains 10 outlets and the data is collected almost equally from all outlets ( excpet 2 outlets)\n",
    "\n",
    "#### Outlet_Extablishment_year\n",
    "\n",
    "1. Categorical data\n",
    "2. Contains the year of outlet's establishment\n",
    "3. Can calculate the age of the outlet\n",
    "\n",
    "#### Outlet_Size\n",
    "\n",
    "1. Categorical Data\n",
    "2. 2046 values are missing\n",
    "3. 3 Categories - Small , Medium, High \n",
    "4. Half of the outlets are medium sized\n",
    "\n",
    "#### Outlet_location\n",
    "\n",
    "1. Categorical data\n",
    "2. Contains the type of location the outlet is present\n",
    "3. Tier1 , Tier2, Tier3\n",
    "\n",
    "#### Outlet_Type\n",
    "\n",
    "1. Categorical data\n",
    "2. 2 major categories - Supermarket and Grocery. Supermarket is split into ( type 1, type 2, type 3)\n",
    "3. Most data is from Supermarket Type 1\n",
    "\n",
    "### Target : Item_Outlet_Sales\n",
    "\n",
    "#### The feature denotes the price of an item at the specific outlet\n",
    "\n",
    "1. Numerical data\n",
    "2. Difference between mean and median is 400, therefore outliers may be present\n",
    "3. Right Skewed and has a long tail with visible outliers\n",
    "\n"
   ]
  },
  {
   "cell_type": "markdown",
   "id": "64e915d5",
   "metadata": {},
   "source": [
    "### Handling missing values\n",
    "\n",
    " Item_weight - 1463\n",
    " \n",
    " Outlet_size - 2406\n"
   ]
  },
  {
   "cell_type": "code",
   "execution_count": null,
   "id": "2427e835",
   "metadata": {},
   "outputs": [],
   "source": [
    "def mean_imputer(data):\n",
    "    data.fillna(data.mean() , inplace = True)\n",
    "    return data\n",
    "\n",
    "def mode_imputer(data):\n",
    "    data.fillna(data.mode()[0], inplace = True)\n",
    "    return data"
   ]
  },
  {
   "cell_type": "code",
   "execution_count": null,
   "id": "c8232bd4",
   "metadata": {},
   "outputs": [],
   "source": [
    "mean_imputer(data.Item_Weight)"
   ]
  },
  {
   "cell_type": "code",
   "execution_count": null,
   "id": "f4175c1d",
   "metadata": {
    "scrolled": true
   },
   "outputs": [],
   "source": [
    "mode_imputer(data.Outlet_Size)"
   ]
  },
  {
   "cell_type": "code",
   "execution_count": null,
   "id": "370a1726",
   "metadata": {
    "scrolled": true
   },
   "outputs": [],
   "source": [
    "data.Outlet_Size.describe()"
   ]
  },
  {
   "cell_type": "code",
   "execution_count": null,
   "id": "b7f14e53",
   "metadata": {},
   "outputs": [],
   "source": [
    "data[\"Outlet_Age\"] = 2021 - data[\"Outlet_Establishment_Year\"] "
   ]
  },
  {
   "cell_type": "code",
   "execution_count": null,
   "id": "619282ee",
   "metadata": {},
   "outputs": [],
   "source": [
    "data[\"Outlet_Age\"]"
   ]
  },
  {
   "cell_type": "code",
   "execution_count": null,
   "id": "ac1ebcc5",
   "metadata": {},
   "outputs": [],
   "source": [
    "data.drop(\"Outlet_Establishment_Year\", inplace = True, axis =1)"
   ]
  },
  {
   "cell_type": "code",
   "execution_count": null,
   "id": "96c01cc5",
   "metadata": {},
   "outputs": [],
   "source": [
    "data"
   ]
  },
  {
   "cell_type": "code",
   "execution_count": null,
   "id": "3a1fc388",
   "metadata": {},
   "outputs": [],
   "source": [
    "corr_matrix = data.corr(\"spearman\")"
   ]
  },
  {
   "cell_type": "code",
   "execution_count": null,
   "id": "2f2c85d5",
   "metadata": {},
   "outputs": [],
   "source": [
    "corr_matrix[\"Item_Outlet_Sales\"]\n",
    "# Item_MRP is highly correlated with the target feature"
   ]
  },
  {
   "cell_type": "code",
   "execution_count": null,
   "id": "92307cb2",
   "metadata": {},
   "outputs": [],
   "source": [
    "#Splitting the data to categorical and numerical data\n",
    "\n",
    "def cat_num_split(data):\n",
    "    cat_columns = []\n",
    "    num_columns = []\n",
    "    \n",
    "    for i in data.columns:\n",
    "        if data[i].dtype == object:\n",
    "            cat_columns.append(i)\n",
    "        else :\n",
    "            num_columns.append(i)\n",
    "    data_num = data[num_columns]\n",
    "    data_cat = data[cat_columns]\n",
    "    \n",
    "    return data_num , data_cat\n",
    "    "
   ]
  },
  {
   "cell_type": "code",
   "execution_count": null,
   "id": "2db3da7b",
   "metadata": {},
   "outputs": [],
   "source": [
    "data_num , data_cat = cat_num_split(data)\n"
   ]
  },
  {
   "cell_type": "code",
   "execution_count": null,
   "id": "055fe299",
   "metadata": {},
   "outputs": [],
   "source": [
    "data_num"
   ]
  },
  {
   "cell_type": "code",
   "execution_count": null,
   "id": "1b9876d8",
   "metadata": {},
   "outputs": [],
   "source": [
    "data_cat"
   ]
  },
  {
   "cell_type": "code",
   "execution_count": null,
   "id": "528164fe",
   "metadata": {},
   "outputs": [],
   "source": [
    "#To drop unwanted columns from the data\n",
    "def drop_unwanted(data,columns):\n",
    "    for i in columns:\n",
    "        data.drop(i, axis = 1, inplace = True)\n",
    "    return data"
   ]
  },
  {
   "cell_type": "code",
   "execution_count": null,
   "id": "54dd8323",
   "metadata": {},
   "outputs": [],
   "source": [
    "\n",
    "#drop_unwanted(data_cat, [\"Item_Identifier\"])\n",
    "drop_unwanted(data_num, [\"Item_Weight\"])\n"
   ]
  },
  {
   "cell_type": "code",
   "execution_count": null,
   "id": "85824e5a",
   "metadata": {},
   "outputs": [],
   "source": [
    "# replacing repeated categorical names with the appropriate one\n",
    "\n",
    "def repeated_cat_replace(data):\n",
    "    data.replace(\"LF\", \"Low Fat\", inplace = True)\n",
    "    data.replace(\"low fat\", \"Low Fat\", inplace = True)\n",
    "    data.replace(\"reg\", \"Regular\", inplace = True)\n",
    "    \n",
    "    return data"
   ]
  },
  {
   "cell_type": "code",
   "execution_count": null,
   "id": "204fdc7b",
   "metadata": {},
   "outputs": [],
   "source": [
    "repeated_cat_replace(data_cat[\"Item_Fat_Content\"])"
   ]
  },
  {
   "cell_type": "code",
   "execution_count": null,
   "id": "4649b786",
   "metadata": {},
   "outputs": [],
   "source": [
    "#Encoding the catergorical data\n",
    "\n",
    "def encode_cat_data(z):\n",
    "    from sklearn.preprocessing import OneHotEncoder\n",
    "    encoder = OneHotEncoder()\n",
    "    return encoder.fit_transform(z).toarray() , encoder.categories_\n",
    "    "
   ]
  },
  {
   "cell_type": "code",
   "execution_count": null,
   "id": "90449ce7",
   "metadata": {},
   "outputs": [],
   "source": [
    "#To normalize the data\n",
    "def normalized_data(data):\n",
    "    \n",
    "    from sklearn.preprocessing import Normalizer\n",
    "    nor = Normalizer()\n",
    "    nor_df = nor.fit_transform(data)\n",
    "    data_num_norm = pd.DataFrame(nor_df, columns = [\"Item_Visibility\",\"Item_Mrp\",\"Item_Outlet_sales\",\"Outlet_Age\"])\n",
    "    \n",
    "    X = data_num_norm[[\"Item_Mrp\"]]\n",
    "    y = data_num_norm[[\"Item_Outlet_sales\"]]\n",
    "    \n",
    "    return X ,y\n",
    "    "
   ]
  },
  {
   "cell_type": "code",
   "execution_count": null,
   "id": "8337870f",
   "metadata": {},
   "outputs": [],
   "source": [
    "X, y = normalized_data(data_num)"
   ]
  },
  {
   "cell_type": "code",
   "execution_count": null,
   "id": "753d9cd7",
   "metadata": {},
   "outputs": [],
   "source": [
    "#regression_model(X,y)"
   ]
  },
  {
   "cell_type": "code",
   "execution_count": null,
   "id": "25b64193",
   "metadata": {},
   "outputs": [],
   "source": [
    "# Trying out regression with multiple features\n",
    "#X2 = cat_encoded\n",
    "#y2 = normalized_data(data_num)[1]\n",
    "\n",
    "#from sklearn.linear_model import LinearRegression\n",
    "#regression = LinearRegression()\n",
    "#regression.fit(X=X2, y=y2) \n",
    "#regression.score(X2,y2)\n"
   ]
  },
  {
   "cell_type": "code",
   "execution_count": null,
   "id": "785be8bc",
   "metadata": {},
   "outputs": [],
   "source": [
    "#Splitting categorical data into nominal and ordinal data\n",
    "\n",
    "ordinal_cols = [\"Item_Fat_Content\",\"Outlet_Size\",\"Outlet_Location_Type\"]\n",
    "nominal_cols = [\"Item_Identifier\",\"Item_Type\",\"Outlet_Identifier\",\"Outlet_Type\"]\n",
    "\n",
    "nominal_cat_data = data_cat[nominal_cols]\n",
    "ordinal_cat_data = data_cat[ordinal_cols]"
   ]
  },
  {
   "cell_type": "code",
   "execution_count": null,
   "id": "165449f3",
   "metadata": {},
   "outputs": [],
   "source": [
    "nominal_cat_data"
   ]
  },
  {
   "cell_type": "code",
   "execution_count": null,
   "id": "fa2538ef",
   "metadata": {
    "scrolled": false
   },
   "outputs": [],
   "source": [
    "# Handling ordinal data with label encoding\n",
    "\n",
    "ordinal_cat_data.Item_Fat_Content = ordinal_cat_data.Item_Fat_Content.map({\"Low Fat\": 0, \"Regular\":1})\n",
    "ordinal_cat_data.Outlet_Size = ordinal_cat_data.Outlet_Size.map({\"Medium\":1, \"Small\":0, \"High\":2})\n",
    "ordinal_cat_data.Outlet_Location_Type = ordinal_cat_data.Outlet_Location_Type.map({\"Tier 1\":1, \"Tier 2\":2, \"Tier 3\":3})\n",
    "\n",
    "ordinal_cat_data\n",
    "\n",
    "# Only outlet size is somewhat correlated to the target\n",
    "# will be using that to test \n",
    "\n",
    "ordinal_cat_data.drop(\"Item_Fat_Content\", axis=1, inplace=True)\n",
    "ordinal_cat_data.drop(\"Outlet_Location_Type\", axis=1, inplace=True)\n",
    "\n"
   ]
  },
  {
   "cell_type": "code",
   "execution_count": null,
   "id": "75716426",
   "metadata": {},
   "outputs": [],
   "source": [
    "# Handling Nominal Data\n",
    "\n",
    "# Count encoding for Item_Identifier since it has high cardinality\n",
    "\n",
    "def count_encoding(data):\n",
    "    data = data.map(data.value_counts().to_dict())\n",
    "    return data\n",
    "\n",
    "nominal_cat_data[\"Item_Identifier\"]= count_encoding(nominal_cat_data[\"Item_Identifier\"])\n",
    "\n",
    "#Item_Identifier is not correlated to the target\n",
    "nominal_cat_data.drop(\"Item_Identifier\", axis=1, inplace=True)\n",
    "\n",
    "# Item_Type is not correlated to the target\n",
    "nominal_cat_data.drop(\"Item_Type\", axis=1, inplace=True)\n",
    "\n",
    "\n",
    "# Apllying one hot encoding on Outlet_Identifier \n",
    "vals , cols = encode_cat_data(nominal_cat_data[[\"Outlet_Identifier\"]])\n",
    "nominal_cat_data[\"Outlet_Identifier\"]= pd.DataFrame(vals, columns = list(cols))\n",
    "\n",
    "# Apllying one hot encoding on Outlet_Type\n",
    "vals2 , cols2 = encode_cat_data(nominal_cat_data[[\"Outlet_Type\"]])\n",
    "nominal_cat_data[\"Outlet_Type\"]= pd.DataFrame(vals2, columns = list(cols2))\n",
    "\n",
    "\n"
   ]
  },
  {
   "cell_type": "code",
   "execution_count": null,
   "id": "a3f3a8d0",
   "metadata": {},
   "outputs": [],
   "source": [
    "final_cat_data = nominal_cat_data.copy()\n",
    "final_cat_data[\"Outlet_Size\"] = ordinal_cat_data"
   ]
  },
  {
   "cell_type": "code",
   "execution_count": null,
   "id": "16a6537b",
   "metadata": {},
   "outputs": [],
   "source": [
    "final_cat_data"
   ]
  },
  {
   "cell_type": "code",
   "execution_count": null,
   "id": "b70d6360",
   "metadata": {},
   "outputs": [],
   "source": [
    "#Combining categorical and Numerical features\n",
    "\n",
    "final_features = final_cat_data.copy()\n",
    "final_features[\"Item_MRP\"] = normalized_data(data_num)[0]"
   ]
  },
  {
   "cell_type": "code",
   "execution_count": null,
   "id": "a72b50f0",
   "metadata": {},
   "outputs": [],
   "source": [
    "final_features"
   ]
  },
  {
   "cell_type": "code",
   "execution_count": null,
   "id": "caa91b77",
   "metadata": {},
   "outputs": [],
   "source": [
    "# Linerar Regression Model\n",
    "\n",
    "from sklearn.linear_model import LinearRegression\n",
    "regression = LinearRegression()\n",
    "regression.fit(X,y)\n",
    "regression.score(X,y)"
   ]
  },
  {
   "cell_type": "code",
   "execution_count": null,
   "id": "13fc616d",
   "metadata": {},
   "outputs": [],
   "source": [
    "test = pd.read_csv(\"Test.csv\")"
   ]
  },
  {
   "cell_type": "code",
   "execution_count": null,
   "id": "423631ab",
   "metadata": {},
   "outputs": [],
   "source": [
    "from sklearn.preprocessing import Normalizer\n",
    "nor = Normalizer()\n",
    "nor_df = nor.fit(X =test[[\"Item_MRP\"]])\n",
    "#test_num = pd.DataFrame(nor_df, columns = [\"Item_MRP\"])\n",
    "#nor_df   \n",
    "\n",
    "nor_df.transform(test[[\"Item_MRP\"]])\n",
    "    \n"
   ]
  },
  {
   "cell_type": "code",
   "execution_count": null,
   "id": "08cfecd4",
   "metadata": {},
   "outputs": [],
   "source": [
    "from sklearn.model_selection import train_test_split\n",
    "X_train,X_test, y_train,y_test = train_test_split(X,y,test_size=0.20, random_state=42)"
   ]
  },
  {
   "cell_type": "code",
   "execution_count": null,
   "id": "954398ad",
   "metadata": {},
   "outputs": [],
   "source": [
    "X = X_train\n",
    "y = y_train"
   ]
  },
  {
   "cell_type": "code",
   "execution_count": null,
   "id": "ba813be8",
   "metadata": {},
   "outputs": [],
   "source": [
    "regression.score(X_test,y_test)"
   ]
  },
  {
   "cell_type": "code",
   "execution_count": null,
   "id": "a951f0c7",
   "metadata": {},
   "outputs": [],
   "source": [
    "from sklearn.tree import DecisionTreeRegressor\n",
    "tree_reg = DecisionTreeRegressor()\n",
    "tree_reg.fit(X_train,y_train)"
   ]
  },
  {
   "cell_type": "code",
   "execution_count": null,
   "id": "73d12241",
   "metadata": {},
   "outputs": [],
   "source": [
    "tree_reg.score(X_test,y_test)"
   ]
  },
  {
   "cell_type": "code",
   "execution_count": null,
   "id": "ab0d7245",
   "metadata": {},
   "outputs": [],
   "source": [
    "from sklearn.ensemble import RandomForestRegressor"
   ]
  },
  {
   "cell_type": "code",
   "execution_count": null,
   "id": "ac32c601",
   "metadata": {
    "scrolled": true
   },
   "outputs": [],
   "source": [
    "reg_forest = RandomForestRegressor()\n",
    "reg_forest.fit(X_train,y_train)"
   ]
  },
  {
   "cell_type": "code",
   "execution_count": null,
   "id": "d1671a21",
   "metadata": {},
   "outputs": [],
   "source": [
    "reg_forest.score(X_test,y_test)"
   ]
  },
  {
   "cell_type": "code",
   "execution_count": null,
   "id": "9f322c19",
   "metadata": {},
   "outputs": [],
   "source": [
    "file = \"Final_Model.sav\"\n",
    "pickle.dump(reg_forest,open(file,\"wb\"))"
   ]
  },
  {
   "cell_type": "code",
   "execution_count": null,
   "id": "bcdf6bcc",
   "metadata": {},
   "outputs": [],
   "source": [
    "saved_model = pickle.load(open(file,\"rb\"))"
   ]
  },
  {
   "cell_type": "code",
   "execution_count": null,
   "id": "5dbad129",
   "metadata": {},
   "outputs": [],
   "source": [
    "saved_model"
   ]
  },
  {
   "cell_type": "code",
   "execution_count": null,
   "id": "5a4e9b70",
   "metadata": {},
   "outputs": [],
   "source": []
  }
 ],
 "metadata": {
  "kernelspec": {
   "display_name": "Python 3",
   "language": "python",
   "name": "python3"
  },
  "language_info": {
   "codemirror_mode": {
    "name": "ipython",
    "version": 3
   },
   "file_extension": ".py",
   "mimetype": "text/x-python",
   "name": "python",
   "nbconvert_exporter": "python",
   "pygments_lexer": "ipython3",
   "version": "3.8.8"
  }
 },
 "nbformat": 4,
 "nbformat_minor": 5
}
